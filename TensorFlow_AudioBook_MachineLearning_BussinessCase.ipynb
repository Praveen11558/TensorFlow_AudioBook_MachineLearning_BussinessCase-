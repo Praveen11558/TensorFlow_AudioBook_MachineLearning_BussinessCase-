{
 "cells": [
  {
   "cell_type": "code",
   "execution_count": 1,
   "metadata": {},
   "outputs": [],
   "source": [
    "import numpy as np\n",
    "from sklearn import preprocessing\n",
    "raw_csv_data = np.loadtxt('1.1 Audiobooks_data.csv', delimiter=',')\n"
   ]
  },
  {
   "cell_type": "code",
   "execution_count": 49,
   "metadata": {},
   "outputs": [
    {
     "data": {
      "text/plain": [
       "(14084,)"
      ]
     },
     "execution_count": 49,
     "metadata": {},
     "output_type": "execute_result"
    }
   ],
   "source": [
    "unscaled_data = raw_csv_data[:,1:-1]\n",
    "targets_all=raw_csv_data[:,-1] \n",
    "targets_all.shape"
   ]
  },
  {
   "cell_type": "markdown",
   "metadata": {},
   "source": [
    "# Balancing the data"
   ]
  },
  {
   "cell_type": "code",
   "execution_count": 4,
   "metadata": {},
   "outputs": [],
   "source": [
    "num_one_targets= int(np.sum(targets_all))\n",
    "zeroes_target_counter=0\n",
    "indices_to_remove=[]\n",
    "\n",
    "for i in range(targets_all.shape[0]):\n",
    "    if targets_all[i]==0:\n",
    "        zeroes_target_counter+=1\n",
    "        if zeroes_target_counter > num_one_targets:\n",
    "            indices_to_remove.append(i)\n",
    "            \n",
    "unscaled_data_equal_prior=np.delete(unscaled_data, indices_to_remove, axis=0)\n",
    "targets_all_equal_prior = np.delete(targets_all, indices_to_remove, axis=0)"
   ]
  },
  {
   "cell_type": "markdown",
   "metadata": {},
   "source": [
    "# Standardising the data"
   ]
  },
  {
   "cell_type": "code",
   "execution_count": 5,
   "metadata": {},
   "outputs": [
    {
     "data": {
      "text/plain": [
       "(4474,)"
      ]
     },
     "execution_count": 5,
     "metadata": {},
     "output_type": "execute_result"
    }
   ],
   "source": [
    "scaled_inputs=preprocessing.scale(unscaled_data_equal_prior)\n",
    "\n",
    "targets_all_equal_prior.shape"
   ]
  },
  {
   "cell_type": "markdown",
   "metadata": {},
   "source": [
    "# Shuffle the data"
   ]
  },
  {
   "cell_type": "code",
   "execution_count": 6,
   "metadata": {},
   "outputs": [
    {
     "name": "stdout",
     "output_type": "stream",
     "text": [
      "[1416 1405  498 ...  467 2528 2740]\n"
     ]
    }
   ],
   "source": [
    "shuffled_indices= np.arange(targets_all_equal_prior.shape[0])\n",
    "np.random.shuffle(shuffled_indices)\n",
    "print(shuffled_indices)"
   ]
  },
  {
   "cell_type": "code",
   "execution_count": 53,
   "metadata": {},
   "outputs": [
    {
     "data": {
      "text/plain": [
       "(4474,)"
      ]
     },
     "execution_count": 53,
     "metadata": {},
     "output_type": "execute_result"
    }
   ],
   "source": [
    "shuffled_inputs=scaled_inputs[shuffled_indices]\n",
    "shuffled_targets=targets_all_equal_prior[shuffled_indices]"
   ]
  },
  {
   "cell_type": "markdown",
   "metadata": {},
   "source": [
    "# Split the data set to Traning, validation, Test"
   ]
  },
  {
   "cell_type": "code",
   "execution_count": 11,
   "metadata": {},
   "outputs": [],
   "source": [
    "sample_count=int(shuffled_inputs.shape[0])\n",
    "\n",
    "training_sample_count=int(sample_count*0.8)\n",
    "validation_sample_count= int(sample_count*0.1)\n",
    "test_sample_count = sample_count - training_sample_count - validation_sample_count\n",
    "\n",
    "training_inputs = shuffled_inputs[: training_sample_count, :]\n",
    "traning_targets = shuffled_targets[: training_sample_count]\n",
    "\n",
    "validation_inputs = shuffled_inputs[training_sample_count:training_sample_count+ validation_sample_count]\n",
    "validation_targets = shuffled_targets[training_sample_count:training_sample_count + validation_sample_count]\n",
    "\n",
    "test_inputs =shuffled_inputs[training_sample_count + validation_sample_count:]\n",
    "test_targets = shuffled_targets[training_sample_count + validation_sample_count:]\n"
   ]
  },
  {
   "cell_type": "code",
   "execution_count": 12,
   "metadata": {},
   "outputs": [
    {
     "name": "stdout",
     "output_type": "stream",
     "text": [
      "3579 3579\n"
     ]
    }
   ],
   "source": [
    "print(training_inputs.shape[0],traning_targets.shape[0])"
   ]
  },
  {
   "cell_type": "code",
   "execution_count": 13,
   "metadata": {},
   "outputs": [
    {
     "name": "stdout",
     "output_type": "stream",
     "text": [
      "447 447\n"
     ]
    }
   ],
   "source": [
    "print(validation_inputs.shape[0], validation_targets.shape[0])"
   ]
  },
  {
   "cell_type": "code",
   "execution_count": 55,
   "metadata": {},
   "outputs": [
    {
     "name": "stdout",
     "output_type": "stream",
     "text": [
      "448 448\n",
      "(448,) (448, 10)\n"
     ]
    }
   ],
   "source": [
    "print(test_inputs.shape[0], test_targets.shape[0])\n",
    "print(test_targets.shape, test_inputs.shape)"
   ]
  },
  {
   "cell_type": "markdown",
   "metadata": {},
   "source": [
    "# saving the data to npz file"
   ]
  },
  {
   "cell_type": "code",
   "execution_count": 15,
   "metadata": {},
   "outputs": [],
   "source": [
    "np.savez('Audiobooks_data_train', inputs=training_inputs, targets=traning_targets)\n",
    "np.savez('Audiobooks_data_validation', inputs=validation_inputs, targets=validation_targets)\n",
    "np.savez('Audiobooks_data_test', inputs=test_inputs, targets=test_targets )"
   ]
  },
  {
   "cell_type": "markdown",
   "metadata": {},
   "source": [
    "# Creating the class to load the data"
   ]
  },
  {
   "cell_type": "code",
   "execution_count": 39,
   "metadata": {},
   "outputs": [],
   "source": [
    "import numpy as np\n",
    "class Audiobooks_Data_Reader():\n",
    "       # Dataset is a mandatory arugment, while the batch_size is optional\\n\",\n",
    "       # If you don't input batch_size, it will automatically take the value: None\\n\",\n",
    "    \n",
    "        def __init__(self, dataset, batch_size = None):\n",
    "            # The dataset that loads is one of \\\"train\\\", \\\"validation\\\", \\\"test\\\".\\n\",\n",
    "            # e.g. if I call this class with x('train',5), it will load 'Audiobooks_data_train.npz' with a batch size of 5.\\n\",\n",
    "            npz = np.load('Audiobooks_data_{0}.npz'.format(dataset))\n",
    "            # Two variables that take the values of the inputs and the targets. Inputs are floats, targets are integers\\n\",\n",
    "            self.inputs, self.targets = npz['inputs'].astype(np.float), npz['targets'].astype(np.int),\n",
    "            # Counts the batch number, given the size you feed it later\\n\",\n",
    "            # If the batch size is None, we are either validating or testing, so we want to take the data in a single batch\\n\",\n",
    "            if batch_size is None:\n",
    "                self.batch_size = self.inputs.shape[0]\n",
    "            else:\n",
    "                self.batch_size = batch_size\n",
    "            self.curr_batch = 0\n",
    "            self.batch_count = self.inputs.shape[0] // self.batch_size\n",
    "            \n",
    "\n",
    "        # A method which loads the next batch\\n\",\n",
    "        def __next__(self):\n",
    "            if self.curr_batch >= self.batch_count:\n",
    "                self.curr_batch = 0,\n",
    "                raise StopIteration()\n",
    "                \n",
    "                \n",
    "            # You slice the dataset in batches and then the \\\"next\\\" function loads them one after the other\\n\",\n",
    "            batch_slice = slice(self.curr_batch * self.batch_size, (self.curr_batch + 1) * self.batch_size)\n",
    "            inputs_batch = self.inputs[batch_slice]\n",
    "            targets_batch = self.targets[batch_slice]\n",
    "            self.curr_batch += 1\n",
    "            \n",
    "            # One-hot encode the targets. In this example it's a bit superfluous since we have a 0/1 column \\n\",\n",
    "            # as a target already but we're giving you the code regardless, as it will be useful for any \\n\",\n",
    "            # classification task with more than one target column\\n\",\n",
    "            classes_num = 2\n",
    "            targets_one_hot = np.zeros((targets_batch.shape[0], classes_num))\n",
    "            targets_one_hot[range(targets_batch.shape[0]), targets_batch] = 1\n",
    "            \n",
    "            # The function will return the inputs batch and the one-hot encoded targets\\n\",\n",
    "            \n",
    "            return inputs_batch, targets_one_hot\n",
    "        # A method needed for iterating over the batches, as we will put them in a loop\\n\",\n",
    "        # This tells Python that the class we're defining is iterable, i.e. that we can use it like:\\n\",\n",
    "        # for input, output in data: \\n\",\n",
    "            # do things\\n\",\n",
    "        # An iterator in Python is a class with a method __next__ that defines exactly how to iterate through its objects\\n\",\n",
    "        def __iter__(self):\n",
    "            return self"
   ]
  },
  {
   "cell_type": "code",
   "execution_count": 40,
   "metadata": {},
   "outputs": [
    {
     "name": "stderr",
     "output_type": "stream",
     "text": [
      "C:\\ProgramData\\Anaconda3\\lib\\site-packages\\tensorflow\\python\\client\\session.py:1735: UserWarning: An interactive session is already active. This can cause out-of-memory errors in some cases. You must explicitly call `InteractiveSession.close()` to release resources held by the other session(s).\n",
      "  warnings.warn('An interactive session is already active. This can '\n"
     ]
    }
   ],
   "source": [
    "import tensorflow as tf\n",
    "input_size = 10\n",
    "output_size = 2\n",
    "hidden_layer_size = 50\n",
    "tf.reset_default_graph()\n",
    "inputs = tf.placeholder(tf.float32, [None, input_size])\n",
    "targets = tf.placeholder(tf.int32, [None, output_size])\n",
    "weights_1 = tf.get_variable(\"weights_1\", [input_size, hidden_layer_size])\n",
    "biases_1 = tf.get_variable(\"biases_1\", [hidden_layer_size])\n",
    "outputs_1 = tf.nn.relu(tf.matmul(inputs,weights_1) + biases_1)\n",
    "weights_2 = tf.get_variable(\"weights_2\", [hidden_layer_size, hidden_layer_size])\n",
    "biases_2 = tf.get_variable(\"biases_2\",[hidden_layer_size])\n",
    "outputs_2 = tf.nn.relu(tf.matmul(outputs_1,weights_2) + biases_2)\n",
    "weights_3 = tf.get_variable(\"weights_3\", [hidden_layer_size, output_size])\n",
    "biases_3 = tf.get_variable(\"biases_3\", [output_size])\n",
    "outputs = tf.matmul(outputs_2, weights_3) + biases_3\n",
    "loss = tf.nn.softmax_cross_entropy_with_logits(logits = outputs, labels = targets)\n",
    "\n",
    "mean_loss = tf.reduce_mean(loss)\n",
    "\n",
    "optimize = tf.train.AdamOptimizer(learning_rate=0.001).minimize(mean_loss)\n",
    "\n",
    "out_equals_target = tf.equal(tf.argmax(outputs,1), tf.argmax(targets,1))\n",
    "\n",
    "accuracy = tf.reduce_mean(tf.cast(out_equals_target, tf.float32))\n",
    "sess = tf.InteractiveSession()\n",
    "\n",
    "initializer = tf.global_variables_initializer()\n",
    "\n",
    "sess.run(initializer)\n",
    "\n",
    "batch_size = 100\n",
    "\n",
    "max_epochs = 50\n",
    "prev_validation_loss = 9999999.\n",
    "\n",
    "\n"
   ]
  },
  {
   "cell_type": "code",
   "execution_count": 47,
   "metadata": {},
   "outputs": [
    {
     "name": "stdout",
     "output_type": "stream",
     "text": [
      "Epoch 1. Training loss: 0.316. Validation loss: 0.317. Validation accuracy: 83.89%\n",
      "End of training.\n"
     ]
    }
   ],
   "source": [
    "\n",
    "for epoch_counter in range(max_epochs):\n",
    "        curr_epoch_loss = 0.\n",
    "        train_data = Audiobooks_Data_Reader('train', 100)\n",
    "        validation_data = Audiobooks_Data_Reader ('validation')\n",
    "        for input_batch, target_batch in train_data:\n",
    "            _ , batch_loss = sess.run([optimize, mean_loss],feed_dict={inputs: input_batch,targets:target_batch})\n",
    "            curr_epoch_loss += batch_loss\n",
    "        curr_epoch_loss /= train_data.batch_count\n",
    "        validation_loss = 0.\n",
    "        validation_accuracy = 0\n",
    "        for input_batch, target_batch in validation_data:\n",
    "            validation_loss, validation_accuracy = sess.run([mean_loss, accuracy],\n",
    "            feed_dict={inputs: input_batch, targets: target_batch})\n",
    "    \n",
    "        print('Epoch '+str(epoch_counter+1)+\n",
    "              '. Training loss: '+'{0:.3f}'.format(curr_epoch_loss)+\n",
    "              '. Validation loss: '+'{0:.3f}'.format(validation_loss)+\n",
    "              '. Validation accuracy: '+'{0:.2f}'.format(validation_accuracy * 100.)+'%')\n",
    "        if validation_loss > prev_validation_loss:\n",
    "            break\n",
    "        prev_validation_loss = validation_loss\n",
    "print('End of training.')"
   ]
  },
  {
   "cell_type": "markdown",
   "metadata": {},
   "source": [
    "# Testing the module"
   ]
  },
  {
   "cell_type": "code",
   "execution_count": 57,
   "metadata": {},
   "outputs": [
    {
     "name": "stdout",
     "output_type": "stream",
     "text": [
      "Test accuracy: 82.37%\n"
     ]
    }
   ],
   "source": [
    "# Load the test data, following the same logic as we did for the train_data and validation data\\n\",\n",
    "test_data = Audiobooks_Data_Reader('test')\n",
    "for inputs_batch, targets_batch in test_data:\n",
    "    test_accuracy = sess.run([accuracy],\n",
    "                     feed_dict={inputs: inputs_batch, targets: targets_batch})\n",
    "test_accuracy_percent = test_accuracy[0] * 100.\n",
    "   \n",
    "print('Test accuracy: '+'{0:.2f}'.format(test_accuracy_percent)+'%')"
   ]
  },
  {
   "cell_type": "code",
   "execution_count": null,
   "metadata": {},
   "outputs": [],
   "source": []
  }
 ],
 "metadata": {
  "kernelspec": {
   "display_name": "Python 3",
   "language": "python",
   "name": "python3"
  },
  "language_info": {
   "codemirror_mode": {
    "name": "ipython",
    "version": 3
   },
   "file_extension": ".py",
   "mimetype": "text/x-python",
   "name": "python",
   "nbconvert_exporter": "python",
   "pygments_lexer": "ipython3",
   "version": "3.7.4"
  }
 },
 "nbformat": 4,
 "nbformat_minor": 2
}
